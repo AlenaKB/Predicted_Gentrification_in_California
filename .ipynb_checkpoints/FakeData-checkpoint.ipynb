{
 "cells": [
  {
   "cell_type": "code",
   "execution_count": 10,
   "metadata": {},
   "outputs": [],
   "source": [
    "import csv\n",
    "from faker import Faker\n",
    "from faker.providers import internet\n",
    "import datetime"
   ]
  },
  {
   "cell_type": "code",
   "execution_count": 16,
   "metadata": {},
   "outputs": [
    {
     "name": "stdout",
     "output_type": "stream",
     "text": [
      "CSV Generation Complete!\n"
     ]
    }
   ],
   "source": [
    "def datagenerate(records, headers):\n",
    "    fake = Faker('en_US')\n",
    "    fake1 = Faker('en_GB')\n",
    "    with open('fake_address.csv', 'wt') as csvFile:\n",
    "        writer = csv.DictWriter(csvFile, fieldnames=headers)\n",
    "        writer.writeheader()\n",
    "        for i in range(records):\n",
    "            \n",
    "            writer.writerow({\n",
    "                'Census Track' : fake.pyint(min_value=0,\n",
    "                                            max_value=999999, \n",
    "                                            step=1),\n",
    "                'Average Income' : fake.pyint(min_value=10000,\n",
    "                                              max_value=9999999,\n",
    "                                              step=1)\n",
    "                'Neighborhood' : fake.pyint(min_value=10,\n",
    "                                            max_value=99,\n",
    "                                            step=1),\n",
    "                'Shape_Area' : fake.pyint(min_value=100,\n",
    "                                            max_value=999,\n",
    "                                            step=1),\n",
    "                'City' : fake.city(),\n",
    "                'County' : fake.pyint(min_value=0,\n",
    "                                            max_value=99,\n",
    "                                            step=1),\n",
    "                'State' : fake.state(),\n",
    "            })\n",
    "\n",
    "if __name__ == '__main__':\n",
    "    records = 1000\n",
    "    headers = ['Census Track','Neighborhood','Shape_Area',\n",
    "               'City','County','State','Country']\n",
    "    datagenerate(records, headers)\n",
    "    print('CSV Generation Complete!')"
   ]
  },
  {
   "cell_type": "code",
   "execution_count": null,
   "metadata": {},
   "outputs": [],
   "source": []
  }
 ],
 "metadata": {
  "kernelspec": {
   "display_name": "PythonData",
   "language": "python",
   "name": "pythondata"
  },
  "language_info": {
   "codemirror_mode": {
    "name": "ipython",
    "version": 3
   },
   "file_extension": ".py",
   "mimetype": "text/x-python",
   "name": "python",
   "nbconvert_exporter": "python",
   "pygments_lexer": "ipython3",
   "version": "3.7.4"
  }
 },
 "nbformat": 4,
 "nbformat_minor": 4
}
