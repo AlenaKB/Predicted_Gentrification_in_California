{
 "cells": [
  {
   "cell_type": "code",
   "execution_count": 1,
   "metadata": {},
   "outputs": [],
   "source": [
    "import json\n",
    "import pandas as pd\n",
    "import numpy as np\n",
    "import re\n",
    "from sqlalchemy import create_engine\n",
    "import psycopg2\n",
    "from config import db_password\n",
    "import time"
   ]
  },
  {
   "cell_type": "code",
   "execution_count": 2,
   "metadata": {},
   "outputs": [],
   "source": [
    "def ETL(state):\n",
    "    zillow_df = pd.read_csv('../Resources2/Zillow_Sale_Prices_Zip.csv')\n",
    "    zillow_df.set_index('RegionName', inplace=True)\n",
    "    state_df = zillow_df.loc[zillow_df.StateName==state,:]\n",
    "    state_df = state_df.dropna()\n",
    "    median09 = state_df.loc[:,'2009-01':'2009-12'].median(axis = 1, skipna = True)\n",
    "    median19 = state_df.loc[:,'2019-01':'2019-12'].median(axis = 1, skipna = True)\n",
    "    new_df=pd.concat([median09, median19], axis=1)\n",
    "    new_name= ['Median Price 2009','Median Price 2019']\n",
    "    new_df.columns=new_name\n",
    "    new_df['Inflated Median Price 2009'] = 1.1917 * new_df['Median Price 2009']\n",
    "    new_df['Percent Change'] = (new_df['Median Price 2019'] - new_df['Inflated Median Price 2009'])/new_df['Inflated Median Price 2009']\n",
    "    new_df = new_df[['Median Price 2009','Inflated Median Price 2009','Median Price 2019','Percent Change']]\n",
    "    new_df['Median Price 2009'] = new_df['Median Price 2009'].map(\"${:,.2f}\".format)\n",
    "    new_df['Inflated Median Price 2009'] = new_df['Inflated Median Price 2009'].map(\"${:,.2f}\".format)\n",
    "    new_df['Median Price 2019'] = new_df['Median Price 2019'].map(\"${:,.2f}\".format)\n",
    "    new_df['Percent Change'] = new_df['Percent Change'].map(\"{:.2%}\".format)\n",
    "    \n",
    "    return new_df.head()"
   ]
  },
  {
   "cell_type": "code",
   "execution_count": 3,
   "metadata": {},
   "outputs": [
    {
     "data": {
      "text/html": [
       "<div>\n",
       "<style scoped>\n",
       "    .dataframe tbody tr th:only-of-type {\n",
       "        vertical-align: middle;\n",
       "    }\n",
       "\n",
       "    .dataframe tbody tr th {\n",
       "        vertical-align: top;\n",
       "    }\n",
       "\n",
       "    .dataframe thead th {\n",
       "        text-align: right;\n",
       "    }\n",
       "</style>\n",
       "<table border=\"1\" class=\"dataframe\">\n",
       "  <thead>\n",
       "    <tr style=\"text-align: right;\">\n",
       "      <th></th>\n",
       "      <th>Median Price 2009</th>\n",
       "      <th>Inflated Median Price 2009</th>\n",
       "      <th>Median Price 2019</th>\n",
       "      <th>Percent Change</th>\n",
       "    </tr>\n",
       "    <tr>\n",
       "      <th>RegionName</th>\n",
       "      <th></th>\n",
       "      <th></th>\n",
       "      <th></th>\n",
       "      <th></th>\n",
       "    </tr>\n",
       "  </thead>\n",
       "  <tbody>\n",
       "    <tr>\n",
       "      <td>85022</td>\n",
       "      <td>$141,900.00</td>\n",
       "      <td>$169,102.23</td>\n",
       "      <td>$237,800.00</td>\n",
       "      <td>40.62%</td>\n",
       "    </tr>\n",
       "    <tr>\n",
       "      <td>85023</td>\n",
       "      <td>$112,100.00</td>\n",
       "      <td>$133,589.57</td>\n",
       "      <td>$239,150.00</td>\n",
       "      <td>79.02%</td>\n",
       "    </tr>\n",
       "    <tr>\n",
       "      <td>85024</td>\n",
       "      <td>$170,700.00</td>\n",
       "      <td>$203,423.19</td>\n",
       "      <td>$265,800.00</td>\n",
       "      <td>30.66%</td>\n",
       "    </tr>\n",
       "    <tr>\n",
       "      <td>85027</td>\n",
       "      <td>$97,950.00</td>\n",
       "      <td>$116,727.01</td>\n",
       "      <td>$213,450.00</td>\n",
       "      <td>82.86%</td>\n",
       "    </tr>\n",
       "    <tr>\n",
       "      <td>85032</td>\n",
       "      <td>$122,950.00</td>\n",
       "      <td>$146,519.51</td>\n",
       "      <td>$238,200.00</td>\n",
       "      <td>62.57%</td>\n",
       "    </tr>\n",
       "  </tbody>\n",
       "</table>\n",
       "</div>"
      ],
      "text/plain": [
       "           Median Price 2009 Inflated Median Price 2009 Median Price 2019  \\\n",
       "RegionName                                                                  \n",
       "85022            $141,900.00                $169,102.23       $237,800.00   \n",
       "85023            $112,100.00                $133,589.57       $239,150.00   \n",
       "85024            $170,700.00                $203,423.19       $265,800.00   \n",
       "85027             $97,950.00                $116,727.01       $213,450.00   \n",
       "85032            $122,950.00                $146,519.51       $238,200.00   \n",
       "\n",
       "           Percent Change  \n",
       "RegionName                 \n",
       "85022              40.62%  \n",
       "85023              79.02%  \n",
       "85024              30.66%  \n",
       "85027              82.86%  \n",
       "85032              62.57%  "
      ]
     },
     "execution_count": 3,
     "metadata": {},
     "output_type": "execute_result"
    }
   ],
   "source": [
    "ETL('Arizona')"
   ]
  },
  {
   "cell_type": "code",
   "execution_count": null,
   "metadata": {},
   "outputs": [],
   "source": []
  }
 ],
 "metadata": {
  "kernelspec": {
   "display_name": "PythonData",
   "language": "python",
   "name": "pythondata"
  },
  "language_info": {
   "codemirror_mode": {
    "name": "ipython",
    "version": 3
   },
   "file_extension": ".py",
   "mimetype": "text/x-python",
   "name": "python",
   "nbconvert_exporter": "python",
   "pygments_lexer": "ipython3",
   "version": "3.7.4"
  }
 },
 "nbformat": 4,
 "nbformat_minor": 4
}
