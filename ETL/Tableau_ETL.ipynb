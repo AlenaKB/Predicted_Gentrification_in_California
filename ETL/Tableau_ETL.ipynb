{
 "cells": [
  {
   "cell_type": "code",
   "execution_count": 4,
   "metadata": {},
   "outputs": [],
   "source": [
    "import json\n",
    "import pandas as pd\n",
    "import numpy as np\n",
    "import glob\n",
    "import csv\n",
    "import logging\n",
    "import boto3\n",
    "from botocore.exceptions import ClientError"
   ]
  },
  {
   "cell_type": "code",
   "execution_count": 7,
   "metadata": {},
   "outputs": [
    {
     "data": {
      "text/html": [
       "<div>\n",
       "<style scoped>\n",
       "    .dataframe tbody tr th:only-of-type {\n",
       "        vertical-align: middle;\n",
       "    }\n",
       "\n",
       "    .dataframe tbody tr th {\n",
       "        vertical-align: top;\n",
       "    }\n",
       "\n",
       "    .dataframe thead th {\n",
       "        text-align: right;\n",
       "    }\n",
       "</style>\n",
       "<table border=\"1\" class=\"dataframe\">\n",
       "  <thead>\n",
       "    <tr style=\"text-align: right;\">\n",
       "      <th></th>\n",
       "      <th>Index Change</th>\n",
       "      <th>Percent_Change_House</th>\n",
       "      <th>Percent_Change_Rent</th>\n",
       "      <th>Percent_Change_Public_Transp</th>\n",
       "      <th>Percent_Change_Population</th>\n",
       "      <th>Percent_Change_White</th>\n",
       "      <th>Outcome</th>\n",
       "    </tr>\n",
       "    <tr>\n",
       "      <th>zip</th>\n",
       "      <th></th>\n",
       "      <th></th>\n",
       "      <th></th>\n",
       "      <th></th>\n",
       "      <th></th>\n",
       "      <th></th>\n",
       "      <th></th>\n",
       "    </tr>\n",
       "  </thead>\n",
       "  <tbody>\n",
       "    <tr>\n",
       "      <td>91311</td>\n",
       "      <td>0.28</td>\n",
       "      <td>0.418051</td>\n",
       "      <td>0.592135</td>\n",
       "      <td>0.011</td>\n",
       "      <td>0.069428</td>\n",
       "      <td>-0.102</td>\n",
       "      <td>0</td>\n",
       "    </tr>\n",
       "    <tr>\n",
       "      <td>90670</td>\n",
       "      <td>0.78</td>\n",
       "      <td>0.492026</td>\n",
       "      <td>0.699865</td>\n",
       "      <td>0.012</td>\n",
       "      <td>-0.041136</td>\n",
       "      <td>0.075</td>\n",
       "      <td>0</td>\n",
       "    </tr>\n",
       "    <tr>\n",
       "      <td>92065</td>\n",
       "      <td>-0.10</td>\n",
       "      <td>0.400943</td>\n",
       "      <td>0.728412</td>\n",
       "      <td>-0.004</td>\n",
       "      <td>0.089219</td>\n",
       "      <td>0.030</td>\n",
       "      <td>0</td>\n",
       "    </tr>\n",
       "    <tr>\n",
       "      <td>93710</td>\n",
       "      <td>0.07</td>\n",
       "      <td>0.332705</td>\n",
       "      <td>0.561279</td>\n",
       "      <td>0.014</td>\n",
       "      <td>0.129130</td>\n",
       "      <td>-0.023</td>\n",
       "      <td>0</td>\n",
       "    </tr>\n",
       "    <tr>\n",
       "      <td>95019</td>\n",
       "      <td>0.94</td>\n",
       "      <td>0.561080</td>\n",
       "      <td>0.627803</td>\n",
       "      <td>0.006</td>\n",
       "      <td>0.557668</td>\n",
       "      <td>0.218</td>\n",
       "      <td>0</td>\n",
       "    </tr>\n",
       "  </tbody>\n",
       "</table>\n",
       "</div>"
      ],
      "text/plain": [
       "       Index Change  Percent_Change_House  Percent_Change_Rent  \\\n",
       "zip                                                              \n",
       "91311          0.28              0.418051             0.592135   \n",
       "90670          0.78              0.492026             0.699865   \n",
       "92065         -0.10              0.400943             0.728412   \n",
       "93710          0.07              0.332705             0.561279   \n",
       "95019          0.94              0.561080             0.627803   \n",
       "\n",
       "       Percent_Change_Public_Transp  Percent_Change_Population  \\\n",
       "zip                                                              \n",
       "91311                         0.011                   0.069428   \n",
       "90670                         0.012                  -0.041136   \n",
       "92065                        -0.004                   0.089219   \n",
       "93710                         0.014                   0.129130   \n",
       "95019                         0.006                   0.557668   \n",
       "\n",
       "       Percent_Change_White  Outcome  \n",
       "zip                                   \n",
       "91311                -0.102        0  \n",
       "90670                 0.075        0  \n",
       "92065                 0.030        0  \n",
       "93710                -0.023        0  \n",
       "95019                 0.218        0  "
      ]
     },
     "execution_count": 7,
     "metadata": {},
     "output_type": "execute_result"
    }
   ],
   "source": [
    "predicted_df = pd.read_csv('https://gentrificationoutcome.s3.amazonaws.com/predicted.csv ')\n",
    "predicted_df.set_index('zip', inplace=True)\n",
    "predicted_df.head()"
   ]
  },
  {
   "cell_type": "code",
   "execution_count": 14,
   "metadata": {},
   "outputs": [
    {
     "data": {
      "text/plain": [
       "Index Change                    273\n",
       "Percent_Change_House            273\n",
       "Percent_Change_Rent             273\n",
       "Percent_Change_Public_Transp    273\n",
       "Percent_Change_Population       273\n",
       "Percent_Change_White            273\n",
       "Outcome                         273\n",
       "dtype: int64"
      ]
     },
     "execution_count": 14,
     "metadata": {},
     "output_type": "execute_result"
    }
   ],
   "source": [
    "predicted_df.count()"
   ]
  },
  {
   "cell_type": "code",
   "execution_count": 6,
   "metadata": {},
   "outputs": [],
   "source": [
    "predicted_df.to_csv('Resources/predicted.csv', index='zip', header=True)"
   ]
  },
  {
   "cell_type": "code",
   "execution_count": null,
   "metadata": {},
   "outputs": [],
   "source": [
    "# mode = \"append\"\n",
    "# jdbc_url=\"jdbc:postgresql://datagen.cuwjyqdbqund.us-east-1.rds.amazonaws.com:5432/postgres\"\n",
    "# config = {\"user\":\"postgres\",\n",
    "#           \"password\": \"accessdb1\",\n",
    "#           \"driver\":\"org.postgresql.Driver\"}"
   ]
  },
  {
   "cell_type": "code",
   "execution_count": null,
   "metadata": {},
   "outputs": [],
   "source": [
    "# predicted_df.write.jdbc(url=jdbc_url, table='predicted_df', mode=mode, properties=config)"
   ]
  },
  {
   "cell_type": "code",
   "execution_count": null,
   "metadata": {},
   "outputs": [],
   "source": [
    "def upload_file(file_name, bucket, object_name=None):\n",
    "    if object_name is None:\n",
    "        object_name = file_name\n",
    "\n",
    "    # Upload the file\n",
    "    s3_client = boto3.client('s3')\n",
    "    try:\n",
    "        response = s3_client.upload_file(file_name, bucket, object_name)\n",
    "    except ClientError as e:\n",
    "        logging.error(e)\n",
    "        return False\n",
    "    return True"
   ]
  }
 ],
 "metadata": {
  "kernelspec": {
   "display_name": "PythonData",
   "language": "python",
   "name": "pythondata"
  },
  "language_info": {
   "codemirror_mode": {
    "name": "ipython",
    "version": 3
   },
   "file_extension": ".py",
   "mimetype": "text/x-python",
   "name": "python",
   "nbconvert_exporter": "python",
   "pygments_lexer": "ipython3",
   "version": "3.7.4"
  }
 },
 "nbformat": 4,
 "nbformat_minor": 4
}
