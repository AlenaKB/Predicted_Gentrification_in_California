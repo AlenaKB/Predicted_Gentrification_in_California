{
 "cells": [
  {
   "cell_type": "code",
   "execution_count": null,
   "metadata": {},
   "outputs": [],
   "source": [
    "import psycopg2\n",
    "connection = psycopg2.connect(\n",
    "    host = \"datagen.cuwjyqdbqund.us-east-1.rds.amazonaws.com\",\n",
    "    port = 5432,\n",
    "    user = 'postgres',\n",
    "    password = 'accessdb1',\n",
    "    database = 'datagen'\n",
    ")\n",
    "cursor = connection.cursor()"
   ]
  },
  {
   "cell_type": "code",
   "execution_count": null,
   "metadata": {},
   "outputs": [],
   "source": [
    "# cursor.execute(\"\"\"CREATE TABLE economics (\n",
    "#     Zip integer PRIMARY KEY,\n",
    "#     Median_Rent_2000 integer NOT NULL,\n",
    "#     Median_Rent_2014 integer NOT NULL,\n",
    "#     Percent_Change_Rent integer NOT NULL,\n",
    "#     Median_House_Value_2000 integer NOT NULL,\n",
    "#     Median_House_Value_2014 integer NOT NULL,\n",
    "#     Percent_Change_House integer NOT NULL,\n",
    "#     Median_Income_2000 integer NOT NULL,\n",
    "#     Median_Income_2014 integer NOT NULL,\n",
    "#     Percent_Change_Income integer NOT NULL)\"\"\")\n",
    "\n",
    "# cursor.execute(\"\"\"CREATE TABLE demographics (\n",
    "#     Zip int PRIMARY KEY,\n",
    "#     Average_Education_Index_2000 int NOT NULL,\n",
    "#     Average_Education_Index_2014 int NOT NULL,\n",
    "#     Index_Change int NOT NULL,\n",
    "#     Percent_Public_Transp_2000 int NOT NULL,\n",
    "#     Percent_Public_Transp_2014 int NOT NULL,\n",
    "#     Percent_Change_Public_Tranp int NOT NULL,\n",
    "#     Population_2000 int NOT NULL,\n",
    "#     Population_2014 int NOT NULL,\n",
    "#     Percent_Change_Population int NOT NULL,\n",
    "#     Percent_White_2000 int NOT NULL,\n",
    "#     Percent_White_2014 int NOT NULL,\n",
    "#     Percent_Change_White int NOT NULL,\n",
    "#     Gentrified int NOT NULL\"\"\")\n",
    "\n",
    "# connection.commit()"
   ]
  },
  {
   "cell_type": "code",
   "execution_count": null,
   "metadata": {},
   "outputs": [],
   "source": [
    "import pandas as pd\n",
    "\n",
    "sql = \"\"\"\n",
    "Select \"table_name\",\"column_name\",\"data_type\",\"table_schema\"\n",
    "FROM economics.columns\n",
    "WHERE \"table_schema\" = 'public'\n",
    "ORDER_BY table_name\n",
    "\"\"\"\n",
    "\n",
    "pd.read_sql(sql, con=connection)"
   ]
  },
  {
   "cell_type": "code",
   "execution_count": null,
   "metadata": {},
   "outputs": [],
   "source": [
    "with open('Resources/economics.csv', 'r') as row:\n",
    "    next(row)\n",
    "    cursor.copy_from(row, '')"
   ]
  }
 ],
 "metadata": {
  "kernelspec": {
   "display_name": "PythonData",
   "language": "python",
   "name": "pythondata"
  },
  "language_info": {
   "codemirror_mode": {
    "name": "ipython",
    "version": 3
   },
   "file_extension": ".py",
   "mimetype": "text/x-python",
   "name": "python",
   "nbconvert_exporter": "python",
   "pygments_lexer": "ipython3",
   "version": "3.7.4"
  }
 },
 "nbformat": 4,
 "nbformat_minor": 4
}
