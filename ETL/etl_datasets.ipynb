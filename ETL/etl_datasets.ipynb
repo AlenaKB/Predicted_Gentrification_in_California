{
 "cells": [
  {
   "cell_type": "code",
   "execution_count": 1,
   "metadata": {},
   "outputs": [],
   "source": [
    "import pandas as pd\n",
    "from lxml import html"
   ]
  },
  {
   "cell_type": "code",
   "execution_count": 2,
   "metadata": {},
   "outputs": [],
   "source": [
    "def total_func(url,name):\n",
    "    dfs = pd.read_html(url)\n",
    "    df = pd.concat(dfs)\n",
    "    df.columns = ['rank', name, 'zip']\n",
    "    df.drop('rank', axis=1, inplace = True)\n",
    "    df['zip'] = [x[:-4] for x in df['zip'] if len(df['zip']) >= 10]\n",
    "    df['zip'] = df['zip'].replace({'/':''}, regex=True)\n",
    "    df['zip'] = [z[0:5] for z in df['zip']]     \n",
    "    df = df.iloc[1:]\n",
    "    df.to_csv(r'../Resources3/'+name+'.csv')\n",
    "    return df.head()"
   ]
  },
  {
   "cell_type": "code",
   "execution_count": 3,
   "metadata": {},
   "outputs": [
    {
     "data": {
      "text/html": [
       "<div>\n",
       "<style scoped>\n",
       "    .dataframe tbody tr th:only-of-type {\n",
       "        vertical-align: middle;\n",
       "    }\n",
       "\n",
       "    .dataframe tbody tr th {\n",
       "        vertical-align: top;\n",
       "    }\n",
       "\n",
       "    .dataframe thead th {\n",
       "        text-align: right;\n",
       "    }\n",
       "</style>\n",
       "<table border=\"1\" class=\"dataframe\">\n",
       "  <thead>\n",
       "    <tr style=\"text-align: right;\">\n",
       "      <th></th>\n",
       "      <th>house_median_value_2000</th>\n",
       "      <th>zip</th>\n",
       "    </tr>\n",
       "  </thead>\n",
       "  <tbody>\n",
       "    <tr>\n",
       "      <td>1</td>\n",
       "      <td>$1,000,001</td>\n",
       "      <td>90210</td>\n",
       "    </tr>\n",
       "    <tr>\n",
       "      <td>2</td>\n",
       "      <td>$1,000,001</td>\n",
       "      <td>90402</td>\n",
       "    </tr>\n",
       "    <tr>\n",
       "      <td>3</td>\n",
       "      <td>$1,000,001</td>\n",
       "      <td>90743</td>\n",
       "    </tr>\n",
       "    <tr>\n",
       "      <td>4</td>\n",
       "      <td>$1,000,001</td>\n",
       "      <td>92067</td>\n",
       "    </tr>\n",
       "    <tr>\n",
       "      <td>5</td>\n",
       "      <td>$1,000,001</td>\n",
       "      <td>93108</td>\n",
       "    </tr>\n",
       "    <tr>\n",
       "      <td>...</td>\n",
       "      <td>...</td>\n",
       "      <td>...</td>\n",
       "    </tr>\n",
       "    <tr>\n",
       "      <td>1633</td>\n",
       "      <td>$35,000</td>\n",
       "      <td>93530</td>\n",
       "    </tr>\n",
       "    <tr>\n",
       "      <td>1634</td>\n",
       "      <td>$34,500</td>\n",
       "      <td>92328</td>\n",
       "    </tr>\n",
       "    <tr>\n",
       "      <td>1635</td>\n",
       "      <td>$33,500</td>\n",
       "      <td>93554</td>\n",
       "    </tr>\n",
       "    <tr>\n",
       "      <td>1636</td>\n",
       "      <td>$31,100</td>\n",
       "      <td>93528</td>\n",
       "    </tr>\n",
       "    <tr>\n",
       "      <td>1637</td>\n",
       "      <td>$27,600</td>\n",
       "      <td>93562</td>\n",
       "    </tr>\n",
       "  </tbody>\n",
       "</table>\n",
       "<p>1637 rows × 2 columns</p>\n",
       "</div>"
      ],
      "text/plain": [
       "     house_median_value_2000    zip\n",
       "1                 $1,000,001  90210\n",
       "2                 $1,000,001  90402\n",
       "3                 $1,000,001  90743\n",
       "4                 $1,000,001  92067\n",
       "5                 $1,000,001  93108\n",
       "...                      ...    ...\n",
       "1633                 $35,000  93530\n",
       "1634                 $34,500  92328\n",
       "1635                 $33,500  93554\n",
       "1636                 $31,100  93528\n",
       "1637                 $27,600  93562\n",
       "\n",
       "[1637 rows x 2 columns]"
      ]
     },
     "execution_count": 3,
     "metadata": {},
     "output_type": "execute_result"
    }
   ],
   "source": [
    "total_func('http://www.usa.com/rank/california-state--house-median-value--zip-code-rank.htm?hl=&hlst=&wist=&yr=1000&dis=50&sb=DESC&plow=&phigh=&ps=',\n",
    "           'house_median_value_2000'\n",
    "          )"
   ]
  },
  {
   "cell_type": "code",
   "execution_count": 4,
   "metadata": {},
   "outputs": [
    {
     "data": {
      "text/html": [
       "<div>\n",
       "<style scoped>\n",
       "    .dataframe tbody tr th:only-of-type {\n",
       "        vertical-align: middle;\n",
       "    }\n",
       "\n",
       "    .dataframe tbody tr th {\n",
       "        vertical-align: top;\n",
       "    }\n",
       "\n",
       "    .dataframe thead th {\n",
       "        text-align: right;\n",
       "    }\n",
       "</style>\n",
       "<table border=\"1\" class=\"dataframe\">\n",
       "  <thead>\n",
       "    <tr style=\"text-align: right;\">\n",
       "      <th></th>\n",
       "      <th>house_median_value_2014</th>\n",
       "      <th>zip</th>\n",
       "    </tr>\n",
       "  </thead>\n",
       "  <tbody>\n",
       "    <tr>\n",
       "      <td>1</td>\n",
       "      <td>$1,000,001</td>\n",
       "      <td>90024</td>\n",
       "    </tr>\n",
       "    <tr>\n",
       "      <td>2</td>\n",
       "      <td>$1,000,001</td>\n",
       "      <td>90049</td>\n",
       "    </tr>\n",
       "    <tr>\n",
       "      <td>3</td>\n",
       "      <td>$1,000,001</td>\n",
       "      <td>90077</td>\n",
       "    </tr>\n",
       "    <tr>\n",
       "      <td>4</td>\n",
       "      <td>$1,000,001</td>\n",
       "      <td>90210</td>\n",
       "    </tr>\n",
       "    <tr>\n",
       "      <td>5</td>\n",
       "      <td>$1,000,001</td>\n",
       "      <td>90211</td>\n",
       "    </tr>\n",
       "    <tr>\n",
       "      <td>...</td>\n",
       "      <td>...</td>\n",
       "      <td>...</td>\n",
       "    </tr>\n",
       "    <tr>\n",
       "      <td>1646</td>\n",
       "      <td>$26,300</td>\n",
       "      <td>92328</td>\n",
       "    </tr>\n",
       "    <tr>\n",
       "      <td>1647</td>\n",
       "      <td>$22,900</td>\n",
       "      <td>92309</td>\n",
       "    </tr>\n",
       "    <tr>\n",
       "      <td>1648</td>\n",
       "      <td>$22,500</td>\n",
       "      <td>96049</td>\n",
       "    </tr>\n",
       "    <tr>\n",
       "      <td>1649</td>\n",
       "      <td>$13,900</td>\n",
       "      <td>91931</td>\n",
       "    </tr>\n",
       "    <tr>\n",
       "      <td>1650</td>\n",
       "      <td>$9,999</td>\n",
       "      <td>95443</td>\n",
       "    </tr>\n",
       "  </tbody>\n",
       "</table>\n",
       "<p>1650 rows × 2 columns</p>\n",
       "</div>"
      ],
      "text/plain": [
       "     house_median_value_2014    zip\n",
       "1                 $1,000,001  90024\n",
       "2                 $1,000,001  90049\n",
       "3                 $1,000,001  90077\n",
       "4                 $1,000,001  90210\n",
       "5                 $1,000,001  90211\n",
       "...                      ...    ...\n",
       "1646                 $26,300  92328\n",
       "1647                 $22,900  92309\n",
       "1648                 $22,500  96049\n",
       "1649                 $13,900  91931\n",
       "1650                  $9,999  95443\n",
       "\n",
       "[1650 rows x 2 columns]"
      ]
     },
     "execution_count": 4,
     "metadata": {},
     "output_type": "execute_result"
    }
   ],
   "source": [
    "total_func('http://www.usa.com/rank/california-state--house-median-value--zip-code-rank.htm?yr=9000&dis=50&wist=&plow=&phigh=',\n",
    "           'house_median_value_2014'\n",
    "          )"
   ]
  },
  {
   "cell_type": "code",
   "execution_count": 5,
   "metadata": {},
   "outputs": [
    {
     "data": {
      "text/html": [
       "<div>\n",
       "<style scoped>\n",
       "    .dataframe tbody tr th:only-of-type {\n",
       "        vertical-align: middle;\n",
       "    }\n",
       "\n",
       "    .dataframe tbody tr th {\n",
       "        vertical-align: top;\n",
       "    }\n",
       "\n",
       "    .dataframe thead th {\n",
       "        text-align: right;\n",
       "    }\n",
       "</style>\n",
       "<table border=\"1\" class=\"dataframe\">\n",
       "  <thead>\n",
       "    <tr style=\"text-align: right;\">\n",
       "      <th></th>\n",
       "      <th>total_pop_2014</th>\n",
       "      <th>zip</th>\n",
       "    </tr>\n",
       "  </thead>\n",
       "  <tbody>\n",
       "    <tr>\n",
       "      <td>1</td>\n",
       "      <td>106521</td>\n",
       "      <td>90650</td>\n",
       "    </tr>\n",
       "    <tr>\n",
       "      <td>2</td>\n",
       "      <td>102926</td>\n",
       "      <td>90011</td>\n",
       "    </tr>\n",
       "    <tr>\n",
       "      <td>3</td>\n",
       "      <td>102515</td>\n",
       "      <td>90201</td>\n",
       "    </tr>\n",
       "    <tr>\n",
       "      <td>4</td>\n",
       "      <td>102367</td>\n",
       "      <td>91331</td>\n",
       "    </tr>\n",
       "    <tr>\n",
       "      <td>5</td>\n",
       "      <td>99580</td>\n",
       "      <td>92335</td>\n",
       "    </tr>\n",
       "    <tr>\n",
       "      <td>...</td>\n",
       "      <td>...</td>\n",
       "      <td>...</td>\n",
       "    </tr>\n",
       "    <tr>\n",
       "      <td>1732</td>\n",
       "      <td>12</td>\n",
       "      <td>95923</td>\n",
       "    </tr>\n",
       "    <tr>\n",
       "      <td>1733</td>\n",
       "      <td>12</td>\n",
       "      <td>95944</td>\n",
       "    </tr>\n",
       "    <tr>\n",
       "      <td>1734</td>\n",
       "      <td>7</td>\n",
       "      <td>92332</td>\n",
       "    </tr>\n",
       "    <tr>\n",
       "      <td>1735</td>\n",
       "      <td>7</td>\n",
       "      <td>96108</td>\n",
       "    </tr>\n",
       "    <tr>\n",
       "      <td>1736</td>\n",
       "      <td>6</td>\n",
       "      <td>93943</td>\n",
       "    </tr>\n",
       "  </tbody>\n",
       "</table>\n",
       "<p>1736 rows × 2 columns</p>\n",
       "</div>"
      ],
      "text/plain": [
       "     total_pop_2014    zip\n",
       "1            106521  90650\n",
       "2            102926  90011\n",
       "3            102515  90201\n",
       "4            102367  91331\n",
       "5             99580  92335\n",
       "...             ...    ...\n",
       "1732             12  95923\n",
       "1733             12  95944\n",
       "1734              7  92332\n",
       "1735              7  96108\n",
       "1736              6  93943\n",
       "\n",
       "[1736 rows x 2 columns]"
      ]
     },
     "execution_count": 5,
     "metadata": {},
     "output_type": "execute_result"
    }
   ],
   "source": [
    "total_func('http://www.usa.com/rank/california-state--total-population--zip-code-rank.htm?yr=9000&dis=50&wist=&plow=&phigh=',\n",
    "           'total_pop_2014'\n",
    "          )"
   ]
  },
  {
   "cell_type": "code",
   "execution_count": 6,
   "metadata": {},
   "outputs": [
    {
     "data": {
      "text/html": [
       "<div>\n",
       "<style scoped>\n",
       "    .dataframe tbody tr th:only-of-type {\n",
       "        vertical-align: middle;\n",
       "    }\n",
       "\n",
       "    .dataframe tbody tr th {\n",
       "        vertical-align: top;\n",
       "    }\n",
       "\n",
       "    .dataframe thead th {\n",
       "        text-align: right;\n",
       "    }\n",
       "</style>\n",
       "<table border=\"1\" class=\"dataframe\">\n",
       "  <thead>\n",
       "    <tr style=\"text-align: right;\">\n",
       "      <th></th>\n",
       "      <th>total_pop_2000</th>\n",
       "      <th>zip</th>\n",
       "    </tr>\n",
       "  </thead>\n",
       "  <tbody>\n",
       "    <tr>\n",
       "      <td>1</td>\n",
       "      <td>105275</td>\n",
       "      <td>90201</td>\n",
       "    </tr>\n",
       "    <tr>\n",
       "      <td>2</td>\n",
       "      <td>103211</td>\n",
       "      <td>90650</td>\n",
       "    </tr>\n",
       "    <tr>\n",
       "      <td>3</td>\n",
       "      <td>101214</td>\n",
       "      <td>90011</td>\n",
       "    </tr>\n",
       "    <tr>\n",
       "      <td>4</td>\n",
       "      <td>98226</td>\n",
       "      <td>92054</td>\n",
       "    </tr>\n",
       "    <tr>\n",
       "      <td>5</td>\n",
       "      <td>97300</td>\n",
       "      <td>91331</td>\n",
       "    </tr>\n",
       "    <tr>\n",
       "      <td>...</td>\n",
       "      <td>...</td>\n",
       "      <td>...</td>\n",
       "    </tr>\n",
       "    <tr>\n",
       "      <td>1666</td>\n",
       "      <td>6</td>\n",
       "      <td>90071</td>\n",
       "    </tr>\n",
       "    <tr>\n",
       "      <td>1667</td>\n",
       "      <td>4</td>\n",
       "      <td>95937</td>\n",
       "    </tr>\n",
       "    <tr>\n",
       "      <td>1668</td>\n",
       "      <td>3</td>\n",
       "      <td>91743</td>\n",
       "    </tr>\n",
       "    <tr>\n",
       "      <td>1669</td>\n",
       "      <td>2</td>\n",
       "      <td>90263</td>\n",
       "    </tr>\n",
       "    <tr>\n",
       "      <td>1670</td>\n",
       "      <td>2</td>\n",
       "      <td>95836</td>\n",
       "    </tr>\n",
       "  </tbody>\n",
       "</table>\n",
       "<p>1670 rows × 2 columns</p>\n",
       "</div>"
      ],
      "text/plain": [
       "     total_pop_2000    zip\n",
       "1            105275  90201\n",
       "2            103211  90650\n",
       "3            101214  90011\n",
       "4             98226  92054\n",
       "5             97300  91331\n",
       "...             ...    ...\n",
       "1666              6  90071\n",
       "1667              4  95937\n",
       "1668              3  91743\n",
       "1669              2  90263\n",
       "1670              2  95836\n",
       "\n",
       "[1670 rows x 2 columns]"
      ]
     },
     "execution_count": 6,
     "metadata": {},
     "output_type": "execute_result"
    }
   ],
   "source": [
    "total_func('http://www.usa.com/rank/california-state--total-population--zip-code-rank.htm?yr=1000&dis=50&wist=&plow=&phigh=',\n",
    "           'total_pop_2000'\n",
    "          )"
   ]
  },
  {
   "cell_type": "code",
   "execution_count": null,
   "metadata": {},
   "outputs": [],
   "source": [
    "total_func('http://www.usa.com/rank/california-state--median-rental-price--zip-code-rank.htm?yr=9000&dis=50&wist=&plow=&phigh=',\n",
    "           'median_rent_2014'\n",
    "          )"
   ]
  },
  {
   "cell_type": "code",
   "execution_count": null,
   "metadata": {},
   "outputs": [],
   "source": [
    "total_func('http://www.usa.com/rank/california-state--median-rental-price--zip-code-rank.htm?yr=1000&dis=50&wist=&plow=&phigh=',\n",
    "           'median_rent_2000'\n",
    "          )"
   ]
  },
  {
   "cell_type": "code",
   "execution_count": null,
   "metadata": {},
   "outputs": [],
   "source": [
    "total_func('http://www.usa.com/rank/california-state--white-population-percentage--zip-code-rank.htm?yr=9000&dis=50&wist=&plow=&phigh=',\n",
    "           'white_pop_2014'\n",
    "          )"
   ]
  },
  {
   "cell_type": "code",
   "execution_count": null,
   "metadata": {},
   "outputs": [],
   "source": [
    "total_func('http://www.usa.com/rank/california-state--white-population-percentage--zip-code-rank.htm?yr=1000&dis=50&wist=&plow=&phigh=',\n",
    "           'white_pop_2000'\n",
    "          )"
   ]
  },
  {
   "cell_type": "code",
   "execution_count": null,
   "metadata": {},
   "outputs": [],
   "source": [
    "total_func('http://www.usa.com/rank/california-state--average-education-index--zip-code-rank.htm?yr=9000&dis=50&wist=&plow=&phigh=',\n",
    "           'avg_edu_2014'\n",
    "          )"
   ]
  },
  {
   "cell_type": "code",
   "execution_count": null,
   "metadata": {},
   "outputs": [],
   "source": [
    "total_func('http://www.usa.com/rank/california-state--average-education-index--zip-code-rank.htm?yr=1000&dis=50&wist=&plow=&phigh=',\n",
    "           'avg_edu_2000'\n",
    "          )"
   ]
  },
  {
   "cell_type": "code",
   "execution_count": null,
   "metadata": {},
   "outputs": [],
   "source": [
    "total_func('http://www.usa.com/rank/california-state--median-household-income--zip-code-rank.htm?yr=9000&dis=50&wist=&plow=&phigh=',\n",
    "           'median_income_2014'\n",
    "          )"
   ]
  },
  {
   "cell_type": "code",
   "execution_count": null,
   "metadata": {},
   "outputs": [],
   "source": [
    "total_func('http://www.usa.com/rank/california-state--median-household-income--zip-code-rank.htm?yr=1000&dis=50&wist=&plow=&phigh=',\n",
    "           'median_income_2000'\n",
    "          )"
   ]
  },
  {
   "cell_type": "code",
   "execution_count": null,
   "metadata": {},
   "outputs": [],
   "source": [
    "total_func('http://www.usa.com/rank/california-state--take-public-transportation-to-work-population-percentage--zip-code-rank.htm?yr=9000&dis=50&wist=&plow=&phigh=',\n",
    "           'public_transportation_2014'\n",
    "          )"
   ]
  },
  {
   "cell_type": "code",
   "execution_count": null,
   "metadata": {},
   "outputs": [],
   "source": [
    "total_func('http://www.usa.com/rank/california-state--take-public-transportation-to-work-population-percentage--zip-code-rank.htm?yr=1000&dis=50&wist=&plow=&phigh=',\n",
    "           'public_transportation_2000'\n",
    "          )"
   ]
  },
  {
   "cell_type": "code",
   "execution_count": null,
   "metadata": {},
   "outputs": [],
   "source": [
    "total_func('http://www.usa.com/rank/california-state--population-density--zip-code-rank.htm?yr=9000&dis=50&wist=&plow=&phigh=',\n",
    "           'population_density_2014'\n",
    "          )"
   ]
  },
  {
   "cell_type": "code",
   "execution_count": null,
   "metadata": {},
   "outputs": [],
   "source": [
    "total_func('http://www.usa.com/rank/california-state--population-density--zip-code-rank.htm?yr=1000&dis=50&wist=&plow=&phigh=',\n",
    "           'population_density_2000'\n",
    "          )"
   ]
  },
  {
   "cell_type": "code",
   "execution_count": null,
   "metadata": {},
   "outputs": [],
   "source": [
    "total_func('http://www.usa.com/rank/california-state--per-capita-income--zip-code-rank.htm?yr=9000&dis=50&wist=&plow=&phigh=',\n",
    "           'per_capita_income_2014'\n",
    "          )"
   ]
  },
  {
   "cell_type": "code",
   "execution_count": null,
   "metadata": {},
   "outputs": [],
   "source": [
    "total_func('http://www.usa.com/rank/california-state--per-capita-income--zip-code-rank.htm?yr=1000&dis=50&wist=&plow=&phigh=',\n",
    "           'per_capita_income_2000'\n",
    "          )"
   ]
  },
  {
   "cell_type": "code",
   "execution_count": null,
   "metadata": {},
   "outputs": [],
   "source": [
    "total_func('http://www.usa.com/rank/california-state--crime-index--city-rank.htm?yr=9000&dis=50&wist=&plow=&phigh=',\n",
    "           'crime_index_2014'\n",
    "          )"
   ]
  },
  {
   "cell_type": "code",
   "execution_count": null,
   "metadata": {},
   "outputs": [],
   "source": [
    "total_func('http://www.usa.com/rank/california-state--crime-index--city-rank.htm?yr=1000&dis=50&wist=&plow=&phigh=',\n",
    "           'crime_index_2000'\n",
    "          )"
   ]
  },
  {
   "cell_type": "code",
   "execution_count": null,
   "metadata": {},
   "outputs": [],
   "source": [
    "total_func('http://www.usa.com/rank/california-state--public-school-performance--zip-code-rank.htm?yr=9000&dis=50&wist=&plow=&phigh=',\n",
    "           'public_school_2014'\n",
    "          )"
   ]
  },
  {
   "cell_type": "code",
   "execution_count": null,
   "metadata": {},
   "outputs": [],
   "source": [
    "total_func('http://www.usa.com/rank/california-state--public-school-performance--zip-code-rank.htm?yr=1000&dis=50&wist=&plow=&phigh=',\n",
    "           'public_school_2000'\n",
    "          )"
   ]
  }
 ],
 "metadata": {
  "kernelspec": {
   "display_name": "PythonData",
   "language": "python",
   "name": "pythondata"
  },
  "language_info": {
   "codemirror_mode": {
    "name": "ipython",
    "version": 3
   },
   "file_extension": ".py",
   "mimetype": "text/x-python",
   "name": "python",
   "nbconvert_exporter": "python",
   "pygments_lexer": "ipython3",
   "version": "3.7.4"
  }
 },
 "nbformat": 4,
 "nbformat_minor": 4
}
