{
 "cells": [
  {
   "cell_type": "code",
   "execution_count": 1,
   "metadata": {},
   "outputs": [],
   "source": [
    "import json\n",
    "import pandas as pd\n",
    "import numpy as np\n",
    "import re\n",
    "from sqlalchemy import create_engine\n",
    "import psycopg2\n",
    "from config import db_password\n",
    "import time"
   ]
  },
  {
   "cell_type": "code",
   "execution_count": 7,
   "metadata": {},
   "outputs": [],
   "source": [
    "def ETL(state):\n",
    "    zillow_df = pd.read_csv('Resources/Zillow_Sale_Prices_Zip.csv')\n",
    "    zillow_df.set_index('RegionName', inplace=True)\n",
    "    state_df = zillow_df.loc[zillow_df.StateName==state,:]\n",
    "    state_df = state_df.dropna()\n",
    "    median09 = state_df.loc[:,'2009-01':'2009-12'].median(axis = 1, skipna = True)\n",
    "    median19 = state_df.loc[:,'2019-01':'2019-12'].median(axis = 1, skipna = True)\n",
    "    new_df=pd.concat([median09, median19], axis=1)\n",
    "    new_name= ['Median Price 2009','Median Price 2019']\n",
    "    new_df.columns=new_name\n",
    "    new_df['Inflated Median Price 2009'] = 1.1917 * new_df['Median Price 2009']\n",
    "    new_df['Percent Change'] = (new_df['Median Price 2019'] - new_df['Inflated Median Price 2009'])/new_df['Inflated Median Price 2009']\n",
    "    new_df = new_df[['Median Price 2009','Inflated Median Price 2009','Median Price 2019','Percent Change']]\n",
    "    new_df['Median Price 2009'] = new_df['Median Price 2009'].map(\"${:,.2f}\".format)\n",
    "    new_df['Inflated Median Price 2009'] = new_df['Inflated Median Price 2009'].map(\"${:,.2f}\".format)\n",
    "    new_df['Median Price 2019'] = new_df['Median Price 2019'].map(\"${:,.2f}\".format)\n",
    "    new_df['Percent Change'] = new_df['Percent Change'].map(\"{:.2%}\".format)\n",
    "    \n",
    "    return new_df.head()"
   ]
  },
  {
   "cell_type": "code",
   "execution_count": 8,
   "metadata": {},
   "outputs": [
    {
     "data": {
      "text/html": [
       "<div>\n",
       "<style scoped>\n",
       "    .dataframe tbody tr th:only-of-type {\n",
       "        vertical-align: middle;\n",
       "    }\n",
       "\n",
       "    .dataframe tbody tr th {\n",
       "        vertical-align: top;\n",
       "    }\n",
       "\n",
       "    .dataframe thead th {\n",
       "        text-align: right;\n",
       "    }\n",
       "</style>\n",
       "<table border=\"1\" class=\"dataframe\">\n",
       "  <thead>\n",
       "    <tr style=\"text-align: right;\">\n",
       "      <th></th>\n",
       "      <th>Median Price 2009</th>\n",
       "      <th>Inflated Median Price 2009</th>\n",
       "      <th>Median Price 2019</th>\n",
       "      <th>Percent Change</th>\n",
       "    </tr>\n",
       "    <tr>\n",
       "      <th>RegionName</th>\n",
       "      <th></th>\n",
       "      <th></th>\n",
       "      <th></th>\n",
       "      <th></th>\n",
       "    </tr>\n",
       "  </thead>\n",
       "  <tbody>\n",
       "    <tr>\n",
       "      <td>85022</td>\n",
       "      <td>141900.0</td>\n",
       "      <td>169102.230</td>\n",
       "      <td>237800.0</td>\n",
       "      <td>0.406250</td>\n",
       "    </tr>\n",
       "    <tr>\n",
       "      <td>85023</td>\n",
       "      <td>112100.0</td>\n",
       "      <td>133589.570</td>\n",
       "      <td>239150.0</td>\n",
       "      <td>0.790185</td>\n",
       "    </tr>\n",
       "    <tr>\n",
       "      <td>85024</td>\n",
       "      <td>170700.0</td>\n",
       "      <td>203423.190</td>\n",
       "      <td>265800.0</td>\n",
       "      <td>0.306636</td>\n",
       "    </tr>\n",
       "    <tr>\n",
       "      <td>85027</td>\n",
       "      <td>97950.0</td>\n",
       "      <td>116727.015</td>\n",
       "      <td>213450.0</td>\n",
       "      <td>0.828626</td>\n",
       "    </tr>\n",
       "    <tr>\n",
       "      <td>85032</td>\n",
       "      <td>122950.0</td>\n",
       "      <td>146519.515</td>\n",
       "      <td>238200.0</td>\n",
       "      <td>0.625722</td>\n",
       "    </tr>\n",
       "  </tbody>\n",
       "</table>\n",
       "</div>"
      ],
      "text/plain": [
       "            Median Price 2009  Inflated Median Price 2009  Median Price 2019  \\\n",
       "RegionName                                                                     \n",
       "85022                141900.0                  169102.230           237800.0   \n",
       "85023                112100.0                  133589.570           239150.0   \n",
       "85024                170700.0                  203423.190           265800.0   \n",
       "85027                 97950.0                  116727.015           213450.0   \n",
       "85032                122950.0                  146519.515           238200.0   \n",
       "\n",
       "            Percent Change  \n",
       "RegionName                  \n",
       "85022             0.406250  \n",
       "85023             0.790185  \n",
       "85024             0.306636  \n",
       "85027             0.828626  \n",
       "85032             0.625722  "
      ]
     },
     "execution_count": 8,
     "metadata": {},
     "output_type": "execute_result"
    }
   ],
   "source": [
    "ETL('Arizona')"
   ]
  },
  {
   "cell_type": "code",
   "execution_count": null,
   "metadata": {},
   "outputs": [],
   "source": []
  }
 ],
 "metadata": {
  "kernelspec": {
   "display_name": "PythonData",
   "language": "python",
   "name": "pythondata"
  },
  "language_info": {
   "codemirror_mode": {
    "name": "ipython",
    "version": 3
   },
   "file_extension": ".py",
   "mimetype": "text/x-python",
   "name": "python",
   "nbconvert_exporter": "python",
   "pygments_lexer": "ipython3",
   "version": "3.7.4"
  }
 },
 "nbformat": 4,
 "nbformat_minor": 4
}
